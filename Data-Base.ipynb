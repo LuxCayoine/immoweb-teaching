{
 "cells": [
  {
   "cell_type": "code",
   "execution_count": 1,
   "metadata": {},
   "outputs": [],
   "source": [
    "# pip3 install PyMySQL\n",
    "import pymysql\n",
    "\n",
    "# modules local\n",
    "from modules.crawler import get_lastest_ads\n"
   ]
  },
  {
   "cell_type": "code",
   "execution_count": 2,
   "metadata": {},
   "outputs": [],
   "source": [
    "def get_connection(DB):\n",
    "    connection = pymysql.connect(\n",
    "        host=DB['host'],\n",
    "        port=DB['port'],\n",
    "        user=DB['user'],\n",
    "        passwd=DB['passwd'],\n",
    "        db=DB['db']\n",
    "    )\n",
    "\n",
    "    return connection\n"
   ]
  },
  {
   "cell_type": "code",
   "execution_count": 3,
   "metadata": {},
   "outputs": [],
   "source": [
    "def query(connection, sql):\n",
    "    with connection.cursor() as cursor:\n",
    "        cursor.execute(sql)\n",
    "        return cursor.fetchall()\n"
   ]
  },
  {
   "cell_type": "code",
   "execution_count": 40,
   "metadata": {},
   "outputs": [],
   "source": [
    "MYSQL = {\n",
    "    'host': '127.0.0.1',\n",
    "    'port': 3306,\n",
    "    'user': 'root',\n",
    "    'passwd': '1234',\n",
    "    'db': None\n",
    "}\n"
   ]
  },
  {
   "cell_type": "code",
   "execution_count": 44,
   "metadata": {},
   "outputs": [],
   "source": [
    "connection = get_connection(MYSQL)\n"
   ]
  },
  {
   "cell_type": "code",
   "execution_count": 43,
   "metadata": {},
   "outputs": [
    {
     "data": {
      "text/plain": [
       "()"
      ]
     },
     "execution_count": 43,
     "metadata": {},
     "output_type": "execute_result"
    }
   ],
   "source": [
    "db_name = 'immoweb'\n",
    "sql_create_db = \"CREATE DATABASE \" + db_name\n",
    "query(connection, sql_create_db)\n"
   ]
  },
  {
   "cell_type": "code",
   "execution_count": 45,
   "metadata": {},
   "outputs": [],
   "source": [
    "connection.close()"
   ]
  },
  {
   "cell_type": "code",
   "execution_count": 7,
   "metadata": {},
   "outputs": [],
   "source": [
    "db_name = 'immoweb'\n",
    "DB = {\n",
    "    'host': '127.0.0.1',\n",
    "    'port': 3306,\n",
    "    'user': 'root',\n",
    "    'passwd': '1234',\n",
    "    'db': db_name\n",
    "}\n"
   ]
  },
  {
   "cell_type": "code",
   "execution_count": 46,
   "metadata": {},
   "outputs": [],
   "source": [
    "connection = get_connection(DB)\n"
   ]
  },
  {
   "cell_type": "code",
   "execution_count": 52,
   "metadata": {},
   "outputs": [
    {
     "data": {
      "text/plain": [
       "()"
      ]
     },
     "execution_count": 52,
     "metadata": {},
     "output_type": "execute_result"
    }
   ],
   "source": [
    "sql_create_table = \"\"\"\n",
    "CREATE TABLE IF NOT EXISTS properties (\n",
    "    id INT AUTO_INCREMENT,\n",
    "    immoweb_id INT NOT NULL,\n",
    "    init_price INT,\n",
    "    last_price INT,\n",
    "    surface INT,\n",
    "    rooms INT,\n",
    "    zip_code INT,\n",
    "    suburb VARCHAR(255),\n",
    "    posted_date DATETIME,\n",
    "    immoweb_link TEXT,\n",
    "    type VARCHAR(255),\n",
    "    PRIMARY KEY (id)\n",
    ");\n",
    "\"\"\"\n",
    "query(connection, sql_create_table)\n"
   ]
  },
  {
   "cell_type": "code",
   "execution_count": 9,
   "metadata": {},
   "outputs": [
    {
     "name": "stderr",
     "output_type": "stream",
     "text": [
      "/Users/antoinecayphas/thibaut/immoweb-teaching/modules/crawler.py:113: UserWarning: No parser was explicitly specified, so I'm using the best available HTML parser for this system (\"html.parser\"). This usually isn't a problem, but if you run this code on another system, or in a different virtual environment, it may use a different parser and behave differently.\n",
      "\n",
      "The code that caused this warning is on line 113 of the file /Users/antoinecayphas/thibaut/immoweb-teaching/modules/crawler.py. To get rid of this warning, pass the additional argument 'features=\"html.parser\"' to the BeautifulSoup constructor.\n",
      "\n",
      "  soup = BeautifulSoup(html_source)\n"
     ]
    }
   ],
   "source": [
    "properties = get_lastest_ads(1)\n"
   ]
  },
  {
   "cell_type": "code",
   "execution_count": 53,
   "metadata": {},
   "outputs": [
    {
     "name": "stdout",
     "output_type": "stream",
     "text": [
      "\n",
      "INSERT INTO `properties_3` (immoweb_id, init_price, last_price, surface, rooms, zip_code, suburb, posted_date, immoweb_link, type)\n",
      "VALUES (%s, %s, %s, %s, %s, %s, '%s', '%s', '%s', '%s');\n",
      "\n"
     ]
    }
   ],
   "source": [
    "columns = ('immoweb_id', 'init_price', 'last_price', 'surface', 'rooms', 'zip_code', 'suburb', 'posted_date', 'immoweb_link', 'type')\n",
    "\n",
    "sql_insert_one_property = \"\"\"\n",
    "INSERT INTO `properties` (immoweb_id, init_price, last_price, surface, rooms, zip_code, suburb, posted_date, immoweb_link, type)\n",
    "VALUES (%s, %s, %s, %s, %s, %s, '%s', '%s', '%s', '%s');\n",
    "\"\"\"\n",
    "\n",
    "print(sql_insert_one_property)\n"
   ]
  },
  {
   "cell_type": "code",
   "execution_count": 54,
   "metadata": {},
   "outputs": [],
   "source": [
    "\n",
    "for pro in properties[0]:\n",
    "    sql = sql_insert_one_property % (\n",
    "        str(pro['id']),\n",
    "        str(max(pro['prix']) if pro['prix'] else 'null'),\n",
    "        str(min(pro['prix']) if pro['prix'] else 'null'),\n",
    "        str(pro['surface'] if pro['surface'] else 'null'),\n",
    "        str(pro['chambres'] if pro['chambres'] else 'null'),\n",
    "        str(pro['code_postal'] if pro['code_postal'] else 'null'),\n",
    "        str(pro['nom_commune']).replace(\"'\", \"''\"),\n",
    "        pro['date'].isoformat(),\n",
    "        str(pro['lien']),\n",
    "        str(pro['type'])\n",
    "    )\n",
    "    query(connection, sql)\n",
    "connection.commit()\n"
   ]
  },
  {
   "cell_type": "code",
   "execution_count": 63,
   "metadata": {},
   "outputs": [
    {
     "name": "stdout",
     "output_type": "stream",
     "text": [
      "((1, 8182932, 139000, 139000, 91, None, 1081, 'Koekelberg', datetime.datetime(2019, 6, 13, 8, 41), 'https://www.immoweb.be/fr/annonce/commerce/a-vendre/koekelberg/1081/id8182932', 'Commerce', Decimal('1527.4725')), (4, 8182927, 139000, 139000, 70, 1, 1020, 'Bruxelles  2', datetime.datetime(2019, 6, 13, 8, 41), 'https://www.immoweb.be/fr/annonce/appartement/a-vendre/bruxelles--2/1020/id8182927', 'Appartement', Decimal('1985.7143')), (8, 8182923, 96000, 96000, 72, 2, 6960, 'Manhay', datetime.datetime(2019, 6, 13, 8, 36), 'https://www.immoweb.be/fr/annonce/appartement/a-vendre/manhay/6960/id8182923', 'Appartement', Decimal('1333.3333')), (14, 8182898, 65000, 65000, 556, None, 6780, 'Messancy', datetime.datetime(2019, 6, 13, 6, 54), 'https://www.immoweb.be/fr/annonce/terrain-a-batir/a-vendre/messancy/6780/id8182898', 'Terrain à bâtir', Decimal('116.9065')), (15, 8182893, 250000, 250000, 165, 1, 2140, 'Antwerpen Borgerhout', datetime.datetime(2019, 6, 13, 6, 53), 'https://www.immoweb.be/fr/annonce/maison/a-vendre/antwerpen-borgerhout/2140/id8182893', 'Maison', Decimal('1515.1515')), (19, 8182890, 189000, 189000, 180, 3, 7100, 'Trivières', datetime.datetime(2019, 6, 13, 6, 52), 'https://www.immoweb.be/fr/annonce/maison/a-vendre/trivieres/7100/id8182890', 'Maison', Decimal('1050.0000')), (21, 8182886, 190000, 190000, 200, 3, 6043, 'Charleroi', datetime.datetime(2019, 6, 13, 6, 52), 'https://www.immoweb.be/fr/annonce/maison/a-vendre/charleroi/6043/id8182886', 'Maison', Decimal('950.0000')), (27, 8182896, 289000, 289000, 160, 2, 2550, 'Kontich', datetime.datetime(2019, 6, 13, 6, 53), 'https://www.immoweb.be/fr/annonce/maison/a-vendre/kontich/2550/id8182896', 'Maison', Decimal('1806.2500')), (30, 8089407, 189000, 189000, 140, 3, 2830, 'Willebroek', datetime.datetime(2019, 6, 13, 6, 53), 'https://www.immoweb.be/fr/annonce/maison/a-vendre/willebroek/2830/id8089407', 'Maison', Decimal('1350.0000')))\n"
     ]
    }
   ],
   "source": [
    "connection = get_connection(DB)\n",
    "\n",
    "sql_select = \"\"\"\n",
    "    SELECT *, last_price / surface\n",
    "    FROM properties_2\n",
    "    WHERE last_price / surface < 2000\"\"\"\n",
    "\n",
    "res = query(connection, sql_select)\n",
    "print(res)\n"
   ]
  },
  {
   "cell_type": "code",
   "execution_count": null,
   "metadata": {},
   "outputs": [],
   "source": []
  }
 ],
 "metadata": {
  "kernelspec": {
   "display_name": "Python 3",
   "language": "python",
   "name": "python3"
  },
  "language_info": {
   "codemirror_mode": {
    "name": "ipython",
    "version": 3
   },
   "file_extension": ".py",
   "mimetype": "text/x-python",
   "name": "python",
   "nbconvert_exporter": "python",
   "pygments_lexer": "ipython3",
   "version": "3.7.0"
  }
 },
 "nbformat": 4,
 "nbformat_minor": 2
}
